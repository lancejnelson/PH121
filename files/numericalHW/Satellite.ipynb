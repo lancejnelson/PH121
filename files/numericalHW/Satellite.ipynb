{
 "cells": [
  {
   "cell_type": "markdown",
   "metadata": {},
   "source": [
    "# Overview\n",
    "\n",
    "This week we will continue to use Euler's method to solve problems that we couldn't otherwise solve.  This week that problem will involve the motion of a satellite in orbit.\n",
    "\n",
    "## Physics\n",
    "\n",
    "The acceleration of an object moving in the gravitational field of the Earth is\n",
    "$$\\vec{a} = −{GM_E\\vec{r} \\over r^3}$$\n",
    "\n",
    "where $\\vec{r}$ is the position vector directed from the center of the Earth toward the object. Choosing the origin to be at the center of the Earth and assuming that the small object is moving in the x-y plane, the rectangular (cartesian) components of its acceleration are:\n",
    "\n",
    "$$a_x=− {GM_Ex \\over (x^2 + y^2)^{3/2}}$$\n",
    "\n",
    "$$a_y=− {GM_Ey \\over (x^2 + y^2)^{3/2}}$$\n",
    "\n",
    "\n",
    "For a perfectly circular orbit, the speed of the satellite must be exactly:\n",
    "\n",
    "$$v = \\sqrt{G M_E\\over h}$$\n",
    "\n",
    "where $h$ is the radius of the orbit.\n",
    "\n",
    "\n",
    "## Your problem\n",
    "\n",
    "Using Python, model the motion of an object orbiting the earth. Assume that the initial position of the object is $x = 0$, $y = 2R_E$ ($R_E$ is the radius of the earth). Let the initial velocity vector of the satellite have no y-component and set the x-component to the correct value so that a perfectly circular orbit results. Use $dt = 5$ s.\n",
    "\n",
    "Complete the following:\n",
    "1. Below you will find the begninings of a python code (with comments) to calculate the orbit of the satellite.  Finish the code off and ensure that the resulting plot looks reasonable.\n",
    "2.  Using trial and error, determine the time it takes to make a full orbit.\n",
    "3. Instead of using trial and error, try using an \"if\" statement to find the time for a full orbit.\n",
    "4.  What do you think would happen if you increased (or decreased) the initial speed of the satellite?  Hypothesize and then check your hypothesis.\n",
    "5. Gravity is an inverse square law because the strength of the gravitational force decreases as the *square* of the distance.  What kind of orbits would you expect if gravity was not an inverse square law.  To investigate this, change the acceleration components to: (notice the exponent in the denominator)\n",
    "\n",
    "$$a_x=− {GM_Ex \\over (x^2 + y^2)^{{n\\over 2} + {1\\over 2}}}$$\n",
    "\n",
    "$$a_y=− {GM_Ey \\over (x^2 + y^2)^{{n\\over 2} + {1\\over 2}}}$$\n",
    "\n",
    "where $n = 2$ for inverse square, $n = 3$ is for inverse cube, etc...\n",
    "\n",
    "Modify your code so that $n = 2.1, 2.2,2.3$ etc and observe the orbit that results. Reduce the initial speed of the orbit as well.\n",
    "\n",
    "Note:  You will want to remove the command setting the aspect ratio to 1 for this part if you want the plot to be interpretable.\n"
   ]
  },
  {
   "cell_type": "code",
   "execution_count": null,
   "metadata": {},
   "outputs": [],
   "source": [
    "from matplotlib import pyplot\n",
    "from numpy import sqrt\n",
    "from numpy.linalg import norm\n",
    "G = 6.67e-11  #Gravitational constant\n",
    "mE = 5.98e24 # Mass of the Earth\n",
    "rE = 6.37e6  # Radius of the Earth\n",
    "\n",
    "# Initial conditions\n",
    "x = 0   \n",
    "y = 2 * rE\n",
    "vx = # Set the initial velocity\n",
    "vy = # Set the initial velocity\n",
    "t = 0\n",
    "\n",
    "dt = 5\n",
    "tMax = 2000  # How long will the simulation run\n",
    "\n",
    "fig,graph = pyplot.subplots(1,1,figsize = (15,15))  # Initialize the plot canvas.\n",
    "\n",
    "while t < tMax:\n",
    "    # Several lines need added here.\n",
    "    \n",
    "    graph.plot(x,y,'b.')  # Plot single point in the satellite's trajectory\n",
    "\n",
    "graph.set_aspect(1)  # Set the aspect ratio to 1 so a circular orbit doesn't look elliptical\n",
    "    \n",
    "pyplot.show()\n"
   ]
  },
  {
   "cell_type": "code",
   "execution_count": null,
   "metadata": {},
   "outputs": [],
   "source": []
  }
 ],
 "metadata": {
  "kernelspec": {
   "display_name": "Python 3",
   "language": "python",
   "name": "python3"
  },
  "language_info": {
   "codemirror_mode": {
    "name": "ipython",
    "version": 3
   },
   "file_extension": ".py",
   "mimetype": "text/x-python",
   "name": "python",
   "nbconvert_exporter": "python",
   "pygments_lexer": "ipython3",
   "version": "3.7.6"
  }
 },
 "nbformat": 4,
 "nbformat_minor": 4
}
