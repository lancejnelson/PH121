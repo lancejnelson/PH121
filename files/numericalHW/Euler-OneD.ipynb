{
 "cells": [
  {
   "cell_type": "markdown",
   "metadata": {},
   "source": [
    "# Overview\n",
    "\n",
    "Watch this video:\n",
    "[Hidden Figures](https://www.youtube.com/watch?v=v-pbGAts_Fg)\n",
    "The method that they used to calculate the trajectory of the space shuttle is called Euler's Method.  In this numerical problem you will learn what Euler's Method is and how to use it to solve some one-dimensional problems involving air drag.\n",
    "    \n",
    "    \n",
    "## Euler's Method\n",
    "\n",
    "Euler’s method is a numerical approach for finding velocities and positions when the acceleration is **not** constant. In this approach, very small time steps are made into the future and new positions and velocities are calculated using the simple formulas:\n",
    "\n",
    "$$ v_f = v_i + a \\Delta t$$\n",
    "$$ x_f = x_i + v \\Delta t$$\n",
    "\n",
    "(the $ {1\\over 2} a \\Delta t^2$ term is not needed becaseu the velocity is assumed to be constant over such a small time interval.)\n",
    "\n",
    "Your choice for $\\Delta t$ is critical to the accuracy of the method. Smaller time steps produce more accurate results (to a point) at greater computational cost.  \n",
    "\n",
    "## Example\n",
    "\n",
    "Let's see how to code Euler's method for a simple problem.  In this problem, a steel ball is thrown upward with an initial velocity $v_i = 10$ m/s from a height of $4$ m.  We'd like to know when it lands on the ground and how fast it's going."
   ]
  },
  {
   "cell_type": "code",
   "execution_count": 11,
   "metadata": {},
   "outputs": [
    {
     "name": "stdout",
     "output_type": "stream",
     "text": [
      "It took 2.38 seconds for the particle to hit the ground\n",
      "The velocity of the particle as it hit the ground was -13.35 meters/seconds\n"
     ]
    },
    {
     "data": {
      "image/png": "[encoded data removed]",
      "text/plain": [
       "<Figure size 432x288 with 1 Axes>"
      ]
     },
     "metadata": {
      "needs_background": "light"
     },
     "output_type": "display_data"
    }
   ],
   "source": [
    "\n",
    "\n",
    "vi = 10\n",
    "a = -9.8\n",
    "deltat = 0.1\n",
    "\n",
    "y = [4]\n",
    "v = [10]\n",
    "t = [0]\n",
    "\n",
    "while y[-1] > 0:\n",
    "    v.append(v[-1] + a * deltat)\n",
    "    y.append(y[-1] + v[-1] * deltat)\n",
    "    t.append(t[-1] + deltat)\n",
    "    \n",
    "from matplotlib import pyplot\n",
    "\n",
    "print(\"It took{:5.2f} seconds for the particle to hit the ground\".format(t[-1]))\n",
    "print(\"The velocity of the particle as it hit the ground was {:5.2f} meters/seconds\".format(v[-1]))\n",
    "\n",
    "pyplot.plot(t,y)\n",
    "pyplot.show()"
   ]
  },
  {
   "cell_type": "markdown",
   "metadata": {},
   "source": [
    "Do the following:\n",
    "\n",
    "1. Play with the time step; make it big, make it small. Draw conclusions.\n",
    "2. Change the initial conditions and verify that the results make sense to you.\n",
    "3. Comment the code above. If you don't understand what a line does, ask me or a classmate.\n",
    "\n",
    "\n",
    "## Your Problem\n",
    "\n",
    "\n",
    "A hailstone of mass $4.8 \\times 10^{-4} $kg is dropped from an initial height of $50$ m and falls through the air ,experiencing a net force (gravity plus drag) given by:\n",
    "\n",
    "$$ F = - m g + C v^2$$\n",
    "\n",
    "where $C = 2.5\\times 10^{-5} kg/m$.\n",
    "\n",
    "1. Calculate the terminal speed of the hailstone.  ($v_t = \\sqrt{m g \\over C}$)\n",
    "2. Modify the code from above to find the speed and position of the hailstone as a function of time.  \n",
    "3. Plot the position of the hailstone as a function of time.  How do you know that terminal velocity has been reached?\n",
    "4. Plot the velocity of the hailstone as a function of time.  Does this function agree with the position vs. time function?(slope of position = value of velocity)  Did you reach the same terminal velocity that you calculated earlier?"
   ]
  },
  {
   "cell_type": "code",
   "execution_count": null,
   "metadata": {},
   "outputs": [],
   "source": []
  }
 ],
 "metadata": {
  "kernelspec": {
   "display_name": "Python 3",
   "language": "python",
   "name": "python3"
  },
  "language_info": {
   "codemirror_mode": {
    "name": "ipython",
    "version": 3
   },
   "file_extension": ".py",
   "mimetype": "text/x-python",
   "name": "python",
   "nbconvert_exporter": "python",
   "pygments_lexer": "ipython3",
   "version": "3.7.6"
  }
 },
 "nbformat": 4,
 "nbformat_minor": 4
}
