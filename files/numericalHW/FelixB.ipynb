{
 "cells": [
  {
   "cell_type": "markdown",
   "metadata": {},
   "source": [
    "# Overview\n",
    "\n",
    "This week we will continue using Euler's method to solve problems that you wouldn't be able to solve with paper and pencil.  As you may recall, Euler's method involves calculating positions and velocities at very small time steps into the future.  Repeatedly stepping forward in time by a very small amount, you can determine position and velocity at any future time.\n",
    "\n",
    "\n",
    "$$v_{i+1} = v_i + a_i \\Delta t$$\n",
    "\n",
    "$$x_{i+1} = x_i + v_i \\Delta t$$\n",
    "\n",
    "You have already seen several examples of Euler's method in previous week's assignments.  If you need a refresher, go back and look at those assignments.  The only difference between this week's assignment and previous week's is that the acceleration will become more realistic.  \n",
    "\n",
    "\n",
    "\n",
    "\n",
    "## Your Problem\n",
    "\n",
    "In 2012, Felix Baumgartner successfully jumped from a height of $39.0$ km above the surface of the Earth. Consider the complexities that this real-world examples provides:\n",
    "\n",
    "1. For this problem, we must include the force of air drag to get the calculation right.  The force of air drag is given by: $F_d = {1\\over 2} \\rho A C v^2$, with $C = 0.58$, $A = 1.04$ m$^2$\n",
    "2. Because Felix jumped from such a high altitude, the density of the atmosphere changed as he fell. The density of the atmosphere changes with altitude according to the following equation: $\\rho = 1.2 \\text{ (kg/m}^3\\text{)} e^{-h\\over 1 \\times 10^4}$\n",
    "\n",
    "3. The acceleration due to gravity, g, is not constant over the flight, but changes with altitude according to the following equation: $g = {9.8 \\text{ m/s}^2 \\over (1 + {h\\over R_E})^2}$, where $R_E = 6.37 \\times 10^6$ m\n",
    "4. Assume that Felix's mass is $m = 73$ kg and that he starts from rest.\n",
    "\n",
    "Use Euler's method to answer the following questions:\n",
    "1. How long does it take Felix to reach Earth's surface.  Give your answer to the nearest second. (Note: We are not considering a parachute in this case.. ouch.)  Answer: You should find that his flight took $\\approx 400 $ s.\n",
    "2. Compare the real fall time you just calculated to the dragless, constant-g ($9.8$m/s$^2$) fall time.  Answer: You should find that the fal\n",
    "\n",
    "\n",
    "Hints:\n",
    "1. Draw Felix's free-body diagram.\n",
    "2. Assemble Newton's second law by summing the forces.\n",
    "3. Solve for Felix's acceleration.\n",
    "4. Use this expression  **inside** your while loop to update Felix's acceleration."
   ]
  },
  {
   "cell_type": "code",
   "execution_count": null,
   "metadata": {},
   "outputs": [],
   "source": []
  }
 ],
 "metadata": {
  "kernelspec": {
   "display_name": "Python 3",
   "language": "python",
   "name": "python3"
  },
  "language_info": {
   "codemirror_mode": {
    "name": "ipython",
    "version": 3
   },
   "file_extension": ".py",
   "mimetype": "text/x-python",
   "name": "python",
   "nbconvert_exporter": "python",
   "pygments_lexer": "ipython3",
   "version": "3.7.6"
  }
 },
 "nbformat": 4,
 "nbformat_minor": 4
}
