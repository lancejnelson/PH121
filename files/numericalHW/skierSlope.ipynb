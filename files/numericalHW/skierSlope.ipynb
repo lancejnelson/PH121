{
 "cells": [
  {
   "cell_type": "markdown",
   "metadata": {},
   "source": [
    "# Overview\n",
    "\n",
    "In this assignment, you will learn how to use:\n",
    "\n",
    "1. Numpy arrays (See section 5.3 in [the python book](https://byui-physics.github.io/pythonbook))\n",
    "1. Plots (See chapter 7 in [the python book](https://byui-physics.github.io/pythonbook))\n",
    "2. Loops (See section 6.1 in [the python book](https://byui-physics.github.io/pythonbook))\n",
    "\n",
    "to solve a more challenging physics problem.\n",
    "\n",
    "***\n",
    "\n",
    "## Problem Statement\n",
    "\n",
    "A skier leaves the ramp of a ski jump with a velocity of $10.0$ m/s, $15.0^\\circ$ above the horizontal. The slope is inclined at $50.0^\\circ$, and air resistance is negligible. You’d like to know where, on the incline, the skier lands. \n",
    "\n",
    "1. Plot the trajectory of the skier on top of the line representing the incline (the $50^\\circ$ one).\n",
    "2. Inspect the plot and estimate the landing location.\n",
    "3. Using a loop, calculate a numerical value for the landing coordinates.\n",
    "\n",
    "***\n",
    "\n",
    "## Solution\n",
    "\n",
    "Below you will find the solution to this problem.  \n",
    "\n",
    "1. Study the code closely and with the help of the book, a classmate, or B. Nelson, figure out what each line is doing.\n",
    "2. Add a comment next to each line describing it.\n"
   ]
  },
  {
   "cell_type": "code",
   "execution_count": 12,
   "metadata": {},
   "outputs": [
    {
     "data": {
      "image/png": "[encoded data removed]",
      "text/plain": [
       "<Figure size 432x288 with 1 Axes>"
      ]
     },
     "metadata": {
      "needs_background": "light"
     },
     "output_type": "display_data"
    },
    {
     "name": "stdout",
     "output_type": "stream",
     "text": [
      "The landing location is 27.045923136093915,-31.16906673712943  m\n"
     ]
    },
    {
     "ename": "SystemExit",
     "evalue": "",
     "output_type": "error",
     "traceback": [
      "An exception has occurred, use %tb to see the full traceback.\n",
      "\u001b[0;31mSystemExit\u001b[0m\n"
     ]
    }
   ],
   "source": [
    "from numpy import arange,pi,cos,sin,tan,array\n",
    "from numpy.linalg import norm\n",
    "from matplotlib import pyplot\n",
    "from sys import exit\n",
    "\n",
    "t = arange(0,3,.05)\n",
    "vi = 10\n",
    "theta = 15 * pi/180\n",
    "vix = vi * cos(theta)\n",
    "viy = vi * sin(theta)\n",
    "ay = -9.8\n",
    "\n",
    "x = vix * t\n",
    "y = viy * t + 1/2 * ay * t**2\n",
    "\n",
    "\n",
    "xslope = arange(0,30,.1)\n",
    "yslope = -tan(50*pi/180) * xslope\n",
    "\n",
    "pyplot.plot(xslope,yslope)\n",
    "pyplot.plot(x,y)\n",
    "pyplot.show()\n",
    "\n",
    "\n",
    "for idx,x in enumerate(x):\n",
    "    skierPosition = array([x,y[idx]])\n",
    "    for index,xsl in enumerate(xslope):\n",
    "        if norm(skierPosition - array([xsl,yslope[index]])) < 1 and idx > 10:\n",
    "            print(\"The landing location is {},{}  m\".format(x,y[idx]))\n",
    "            exit()"
   ]
  },
  {
   "cell_type": "markdown",
   "metadata": {},
   "source": [
    "## Apply to a new problem.\n",
    "\n",
    "Now modify the code to solve the following problem:\n",
    "\n",
    "***\n",
    "\n",
    "# Problem Statement\n",
    "\n",
    "An archer is standing on an incline when he fires his arrow at $23^\\circ$ above the incline (not above the horizontal) with an initial speed of $15$ m/s.  The incline's angle is $12^\\circ$.  Using plots and loops, determine where the arrow lands.\n",
    "\n",
    "\n",
    "***"
   ]
  },
  {
   "cell_type": "code",
   "execution_count": null,
   "metadata": {},
   "outputs": [],
   "source": []
  }
 ],
 "metadata": {
  "kernelspec": {
   "display_name": "Python 3",
   "language": "python",
   "name": "python3"
  },
  "language_info": {
   "codemirror_mode": {
    "name": "ipython",
    "version": 3
   },
   "file_extension": ".py",
   "mimetype": "text/x-python",
   "name": "python",
   "nbconvert_exporter": "python",
   "pygments_lexer": "ipython3",
   "version": "3.7.6"
  }
 },
 "nbformat": 4,
 "nbformat_minor": 4
}
