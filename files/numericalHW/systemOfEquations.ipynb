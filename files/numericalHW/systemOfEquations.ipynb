{
 "cells": [
  {
   "cell_type": "markdown",
   "metadata": {},
   "source": [
    "# Systems of Equations\n",
    "\n",
    "Often in physics we encounter systems of equations, meaning multiple equations involving multiple unknown variables.  Here is an example:\n",
    "\n",
    "$$ 5 x + 3 y = 10$$\n",
    "$$ 10 x - 2 y = 3$$\n",
    "\n",
    "or, if you prefer physics variables, it might be:\n",
    "\n",
    "$$ 5 T + 3 a = 10$$\n",
    "$$ 10 T - 2 a = 3$$\n",
    "\n",
    "where $T$ represents the tension in a rope and $a$ represents acceleration.   The key to solving this problem in python is to first write the equations in matrix form (you might not have seen this yet, but you will eventually.)\n",
    "\n",
    "$$\n",
    "\\left(\\begin{array}{cc} \n",
    "5 & 3\\\\\n",
    "10 & -2\n",
    "\\end{array}\\right)\n",
    "\\left(\\begin{array}{c} \n",
    "T \\\\ \n",
    "a\n",
    "\\end{array}\\right) =\n",
    "\\left(\\begin{array}{c} \n",
    "10 \\\\ \n",
    "3\n",
    "\\end{array}\\right)\n",
    "$$ \n",
    " (Take a \n",
    "With the problem in matrix form, we can proceed to solve the problem in python.  Watch the comments in the code for helpful hints.\n"
   ]
  },
  {
   "cell_type": "code",
   "execution_count": 2,
   "metadata": {},
   "outputs": [
    {
     "name": "stdout",
     "output_type": "stream",
     "text": [
      "[0.725 2.125]\n"
     ]
    }
   ],
   "source": [
    "from numpy.linalg import solve\n",
    "\n",
    "a = [[5,3],[10,-2]]  # This is the 2 x 2 matrix from above\n",
    "b = [10,3]  # This is the right hand side of the matrix equation above.\n",
    "solutions = solve(a,b)  #The solve function does all the work to solve for T and a\n",
    "print(solutions)"
   ]
  },
  {
   "cell_type": "code",
   "execution_count": null,
   "metadata": {},
   "outputs": [],
   "source": []
  }
 ],
 "metadata": {
  "kernelspec": {
   "display_name": "Python 3",
   "language": "python",
   "name": "python3"
  },
  "language_info": {
   "codemirror_mode": {
    "name": "ipython",
    "version": 3
   },
   "file_extension": ".py",
   "mimetype": "text/x-python",
   "name": "python",
   "nbconvert_exporter": "python",
   "pygments_lexer": "ipython3",
   "version": "3.7.6"
  }
 },
 "nbformat": 4,
 "nbformat_minor": 4
}
