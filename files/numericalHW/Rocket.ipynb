{
 "cells": [
  {
   "cell_type": "markdown",
   "metadata": {},
   "source": [
    "# Overview\n",
    "\n",
    "Once again, this week we will continue to use Euler's Method to solve fun problems that we wouldn't be able to solve with pencil and paper. My hope is that since you have been using Euler's method for several weeks, you don't need much of a tutorial on it anymore.  If that isn't true and you still need some guidance, please reach out to me or the TA with your questions.\n",
    "\n",
    "\n",
    "## The physics\n",
    "\n",
    "The liftoff of a rocket provides some interesting physics to consider.  Consider the following:\n",
    "\n",
    "1.  The mass of the rocket + fuel is decreasing as the fuel burns off.  Hence, the acceleration of the rocket is very much not a constant.  Caution: You don't want to decrease the mass of the rocket-fuel system forever or the mass will become lower than the mass of the rocket alone, and eventually will go negative (yikes!)\n",
    "2. The force of the thrust on the rocket is given by:\n",
    "$$ F = v_e {dM\\over dt}$$\n",
    "where ${dM\\over dt}$ is the rate of mass loss due to the fuel burning and $v_e$ is the speed with which the exhaust exits the rocket.  Can you do a unit analysis on this function and convince yourself that it has the right units?\n",
    "\n",
    "3. The force of air drag on the rocket is quadratic. In other words, it is given by:\n",
    "$$F_\\text{drag} = {1\\over 2} \\rho A C v^2$$\n",
    "where $\\rho$ is the density of air, $A$ is the cross-sectional area of the rocket, and $C$ is the drag coefficient. Also notice that the direction of the drag force changes at the peak of the trajectory.  For the upward journey, the drag force points downward, and for the downward part of the journey, the drag force points upward.  To handle this efficiently, I recommend calculating this force like this:\n",
    "$$ F_D = {1\\over 2} \\rho A C v |v|$$\n",
    "so that the sign of this calculation changes naturally at the peak of the trajectory.\n",
    " \n",
    "4.  Since the rocket may travel a considerable distance into the atmosphere, we must take into account that the density of the atmosphere varies with altitude according to:\n",
    "$$\\rho(h) = (1.09 - {0.0065 h\\over 300})^{2.5}$$\n",
    "\n",
    "## Your Problem\n",
    "\n",
    "A rocket has a total mass $M_i = 180$ kg, including $130$ kg of fuel and oxidizer. The rocket is launched from the ground, starting from rest at time $t = 0$ s, and puts out exhaust with a relative speed of $v_e = 1500$ m/s at a constant burn rate of $2.50$ kg/s. The burn lasts until the fuel runs out. \n",
    "\n",
    "Assume a cylindrical rocket with a fuselage radius $r = 20$ cm, and a drag coefficient of $C = 0.5$.  Just like with Felix's jump last week, \n",
    "\n",
    "1. Using Euler's method, plot the position vs. time and velocity vs. time graphs for the rocket from the moment it lifts off until it hits the ground again.  Note: We're not modeling a parachute here. \n",
    "2. Make sure your code is well commented.\n",
    "3. Answer the following questions:\n",
    "             1. How long was the flight?\n",
    "             2. What is the rocket's impact speed with the ground?\n",
    "4.  Once you think your simulation is correct, play with some of the key parameters to ensure that the results of your simulation agree with your own intuition.  Here are some things you could try:\n",
    "\n",
    "              1. Change the mass of the rocket.\n",
    "              2. Change the mass of the fuel.\n",
    "              3. Change the exhaust speed of the fuel.\n",
    "              4. Change the drag coefficient.\n",
    "              5. Change the size of the rocket (cross-sectional area).\n",
    "              \n",
    "              \n",
    " Hints:\n",
    " \n",
    " 1. Your code should only have one 'while' loop, not multiple.\n",
    " 2. The thrust force is only nonzero while there is fuel left.  Once the fuel is gone, the thrust force should go to zero.  To handle this consider using an if/else statement:\n",
    " \n",
    "                     if mTotal > mRocket: # If this is true, then execute the line below\n",
    "                           Ft = burnRate * ve\n",
    "                     else:  # Otherwise, execute the line below\n",
    "                          Ft = 0\n",
    "     inside your 'while' loop\n",
    " 3.  The mass of the rocket + fuel system decreases in time, but only while the engine is burning.  So you need to add a statement to your if/else statement:\n",
    "\n",
    "                     if mTotal > mRocket: # If this is true, then execute the line(s) below\n",
    "                           Ft = burnRate * ve\n",
    "                           mTotal = mTotal - burnRate * dt  #<- Add this line to decrease the mass of the system\n",
    "                     else:  # Otherwise, execute the line below.\n",
    "                          Ft = 0\n",
    "\n"
   ]
  },
  {
   "cell_type": "code",
   "execution_count": null,
   "metadata": {},
   "outputs": [],
   "source": []
  },
  {
   "cell_type": "code",
   "execution_count": null,
   "metadata": {},
   "outputs": [],
   "source": []
  }
 ],
 "metadata": {
  "kernelspec": {
   "display_name": "Python 3",
   "language": "python",
   "name": "python3"
  },
  "language_info": {
   "codemirror_mode": {
    "name": "ipython",
    "version": 3
   },
   "file_extension": ".py",
   "mimetype": "text/x-python",
   "name": "python",
   "nbconvert_exporter": "python",
   "pygments_lexer": "ipython3",
   "version": "3.7.6"
  }
 },
 "nbformat": 4,
 "nbformat_minor": 4
}
